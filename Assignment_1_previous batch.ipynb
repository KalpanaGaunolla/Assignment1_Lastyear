{
 "cells": [
  {
   "cell_type": "code",
   "execution_count": 45,
   "id": "creative-advance",
   "metadata": {},
   "outputs": [],
   "source": [
    "#Question1"
   ]
  },
  {
   "cell_type": "code",
   "execution_count": 1,
   "id": "perfect-quantity",
   "metadata": {},
   "outputs": [],
   "source": [
    "a= range(2000,3201)\n",
    "b=(num for num in a if a%7==0 and a%5!=0)"
   ]
  },
  {
   "cell_type": "code",
   "execution_count": 2,
   "id": "affecting-intermediate",
   "metadata": {},
   "outputs": [
    {
     "data": {
      "text/plain": [
       "<generator object <genexpr> at 0x00000167024044A0>"
      ]
     },
     "execution_count": 2,
     "metadata": {},
     "output_type": "execute_result"
    }
   ],
   "source": [
    "b"
   ]
  },
  {
   "cell_type": "code",
   "execution_count": 3,
   "id": "eight-flexibility",
   "metadata": {},
   "outputs": [],
   "source": [
    "#Question2"
   ]
  },
  {
   "cell_type": "code",
   "execution_count": 13,
   "id": "european-accommodation",
   "metadata": {},
   "outputs": [
    {
     "name": "stdout",
     "output_type": "stream",
     "text": [
      "first name:Murali\n",
      "last name:Krishna\n"
     ]
    }
   ],
   "source": [
    "first=input('first name:')\n",
    "last=input('last name:')\n",
    "a='{} {}'.format(first,last)\n",
    "b=a[::-1]"
   ]
  },
  {
   "cell_type": "code",
   "execution_count": 14,
   "id": "another-landing",
   "metadata": {},
   "outputs": [
    {
     "data": {
      "text/plain": [
       "'Murali Krishna'"
      ]
     },
     "execution_count": 14,
     "metadata": {},
     "output_type": "execute_result"
    }
   ],
   "source": [
    "a"
   ]
  },
  {
   "cell_type": "code",
   "execution_count": 15,
   "id": "alert-nigeria",
   "metadata": {},
   "outputs": [
    {
     "data": {
      "text/plain": [
       "'anhsirK ilaruM'"
      ]
     },
     "execution_count": 15,
     "metadata": {},
     "output_type": "execute_result"
    }
   ],
   "source": [
    "b"
   ]
  },
  {
   "cell_type": "code",
   "execution_count": 17,
   "id": "moving-young",
   "metadata": {},
   "outputs": [],
   "source": [
    "#Question3\n",
    "#Finding volume of sphere"
   ]
  },
  {
   "cell_type": "code",
   "execution_count": 26,
   "id": "detailed-bunch",
   "metadata": {},
   "outputs": [],
   "source": [
    "import math"
   ]
  },
  {
   "cell_type": "code",
   "execution_count": 32,
   "id": "gorgeous-picnic",
   "metadata": {},
   "outputs": [],
   "source": [
    "def sphere_volume(dia):\n",
    "    radius=dia/2\n",
    "    volume=4/3*(math.pi)*radius**3\n",
    "    return(volume)\n"
   ]
  },
  {
   "cell_type": "code",
   "execution_count": 33,
   "id": "spiritual-messenger",
   "metadata": {},
   "outputs": [
    {
     "data": {
      "text/plain": [
       "904.7786842338603"
      ]
     },
     "execution_count": 33,
     "metadata": {},
     "output_type": "execute_result"
    }
   ],
   "source": [
    "sphere_volume(12)"
   ]
  },
  {
   "cell_type": "code",
   "execution_count": null,
   "id": "molecular-antenna",
   "metadata": {},
   "outputs": [],
   "source": []
  }
 ],
 "metadata": {
  "kernelspec": {
   "display_name": "Python 3",
   "language": "python",
   "name": "python3"
  },
  "language_info": {
   "codemirror_mode": {
    "name": "ipython",
    "version": 3
   },
   "file_extension": ".py",
   "mimetype": "text/x-python",
   "name": "python",
   "nbconvert_exporter": "python",
   "pygments_lexer": "ipython3",
   "version": "3.9.1"
  }
 },
 "nbformat": 4,
 "nbformat_minor": 5
}
