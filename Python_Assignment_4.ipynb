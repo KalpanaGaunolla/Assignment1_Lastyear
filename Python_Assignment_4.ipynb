{
 "cells": [
  {
   "cell_type": "markdown",
   "metadata": {},
   "source": [
    "##Question 1\n",
    "\n",
    "Problem Statment: Find the area of triangle with class concepts using below formula:\n",
    "\n",
    "area = (s*(s-a)*(s-b)*(s-c)) ** 0.5\n",
    "        "
   ]
  },
  {
   "cell_type": "code",
   "execution_count": 12,
   "metadata": {},
   "outputs": [],
   "source": [
    "# A class with functions to give inputs for lenght of sides of triangle and to calculate semi_perimeter of the triangle"
   ]
  },
  {
   "cell_type": "code",
   "execution_count": 1,
   "metadata": {},
   "outputs": [
    {
     "name": "stdout",
     "output_type": "stream",
     "text": [
      "Enter length of side A here: 2\n",
      "Enter length of side A here:3\n",
      "Enter length of side A here:4\n",
      "2.9047375096555625\n",
      "<__main__.cal_area object at 0x0000024F9C8427C0>\n"
     ]
    }
   ],
   "source": [
    "#Main class to take the inputs for length of sides of a triangle\n",
    "class Triangle_area():\n",
    "    def __init__(self,a,b,c):\n",
    "        self.a=a\n",
    "        self.b=b\n",
    "        self.c=c\n",
    "        \n",
    "a=int(input('Enter length of side A here: '))\n",
    "b=int(input('Enter length of side A here:'))\n",
    "c=int(input('Enter length of side A here:'))\n",
    "\n",
    "#Sub class to calculate perimeter and area of the triangle by inheriting main-class\n",
    "class cal_area(Triangle_area):\n",
    "    def __init__(self,*args):\n",
    "        super().__init__(*args)\n",
    "        s=(self.a+self.b+self.c)/2   #s=(a+b+c)/2 - Perimeter of the triangle\n",
    "        print(((s*(s-self.a)*(s-self.b)*(s-self.c))**0.5)) #calcualting area of triangle\n",
    "\n",
    "\n",
    "A=cal_area(a,b,c)\n",
    "print(A)"
   ]
  },
  {
   "cell_type": "markdown",
   "metadata": {},
   "source": [
    "##Question 2\n",
    "\n",
    "Problem statement: Write a function filter_long_words() that takes a list of words and an integer n and returns\n",
    "the list of words that are longer than n"
   ]
  },
  {
   "cell_type": "code",
   "execution_count": 2,
   "metadata": {},
   "outputs": [],
   "source": [
    "##1st \n",
    "words=[]\n",
    "def filter_long_words(lst,n):\n",
    "    for i in lst:\n",
    "        if len(i)>n:\n",
    "            words.append(i)\n",
    "        print(words)"
   ]
  },
  {
   "cell_type": "code",
   "execution_count": 3,
   "metadata": {},
   "outputs": [
    {
     "name": "stdout",
     "output_type": "stream",
     "text": [
      "['eeeeee']\n",
      "['eeeeee', 'rrrrrrrrrrrr']\n",
      "['eeeeee', 'rrrrrrrrrrrr']\n",
      "['eeeeee', 'rrrrrrrrrrrr', 'pppppppp']\n",
      "['eeeeee', 'rrrrrrrrrrrr', 'pppppppp', 'rrrrrrrrrrrrr']\n"
     ]
    }
   ],
   "source": [
    "lst=['eeeeee', 'rrrrrrrrrrrr', 'rrrr', 'pppppppp', 'rrrrrrrrrrrrr']\n",
    "n=5\n",
    "filter_long_words(lst,n)"
   ]
  },
  {
   "cell_type": "code",
   "execution_count": 4,
   "metadata": {},
   "outputs": [],
   "source": [
    "##2nd method"
   ]
  },
  {
   "cell_type": "code",
   "execution_count": 5,
   "metadata": {},
   "outputs": [],
   "source": [
    "def filter_long_words(lst,n):\n",
    "    for i in lst:\n",
    "        if len(i)>n:\n",
    "            print(i)"
   ]
  },
  {
   "cell_type": "code",
   "execution_count": 6,
   "metadata": {},
   "outputs": [
    {
     "name": "stdout",
     "output_type": "stream",
     "text": [
      "rrrrrrrrrrrr\n",
      "pppppppp\n",
      "rrrrrrrrrrrrr\n"
     ]
    }
   ],
   "source": [
    "filter_long_words(lst,6)"
   ]
  },
  {
   "cell_type": "code",
   "execution_count": 7,
   "metadata": {},
   "outputs": [],
   "source": [
    "##Qurstion 3"
   ]
  },
  {
   "cell_type": "markdown",
   "metadata": {},
   "source": [
    "Problem statement: Python program to map the list of words into a list of integers representing the lengths of the corresponding words"
   ]
  },
  {
   "cell_type": "code",
   "execution_count": 8,
   "metadata": {},
   "outputs": [],
   "source": [
    "#Method1\n",
    "\n",
    "def words_to_integers(words):    \n",
    "    for i in words:\n",
    "        print(len(i))"
   ]
  },
  {
   "cell_type": "code",
   "execution_count": 9,
   "metadata": {},
   "outputs": [],
   "source": [
    "words=['Ram','Sita','Kalp',\"Vishnu\"]"
   ]
  },
  {
   "cell_type": "code",
   "execution_count": 10,
   "metadata": {},
   "outputs": [
    {
     "name": "stdout",
     "output_type": "stream",
     "text": [
      "3\n",
      "4\n",
      "4\n",
      "6\n"
     ]
    }
   ],
   "source": [
    "words_to_integers(words)"
   ]
  },
  {
   "cell_type": "code",
   "execution_count": 11,
   "metadata": {},
   "outputs": [],
   "source": [
    "#words_to_integers(words)"
   ]
  },
  {
   "cell_type": "code",
   "execution_count": 12,
   "metadata": {},
   "outputs": [
    {
     "data": {
      "text/plain": [
       "[3, 4, 4, 6]"
      ]
     },
     "execution_count": 12,
     "metadata": {},
     "output_type": "execute_result"
    }
   ],
   "source": [
    "#Method 2: Using lambda function\n",
    "\n",
    "list(map(lambda words:len(words), words))"
   ]
  },
  {
   "cell_type": "code",
   "execution_count": 13,
   "metadata": {},
   "outputs": [],
   "source": [
    "##Question 4"
   ]
  },
  {
   "cell_type": "markdown",
   "metadata": {},
   "source": [
    "Problem statement: Python program to check the character whether it is a vowel or it is not"
   ]
  },
  {
   "cell_type": "code",
   "execution_count": 34,
   "metadata": {},
   "outputs": [],
   "source": [
    "def check_vowel(string):\n",
    "    string.lower()\n",
    "    if string in 'aeiou':\n",
    "        return True\n",
    "    else:\n",
    "        return False"
   ]
  },
  {
   "cell_type": "code",
   "execution_count": 43,
   "metadata": {},
   "outputs": [
    {
     "name": "stdout",
     "output_type": "stream",
     "text": [
      "y\n"
     ]
    }
   ],
   "source": [
    "string=input()"
   ]
  },
  {
   "cell_type": "code",
   "execution_count": 44,
   "metadata": {},
   "outputs": [
    {
     "name": "stdout",
     "output_type": "stream",
     "text": [
      "False\n"
     ]
    }
   ],
   "source": [
    "print(check_vowel(string))"
   ]
  }
 ],
 "metadata": {
  "kernelspec": {
   "display_name": "Python 3",
   "language": "python",
   "name": "python3"
  },
  "language_info": {
   "codemirror_mode": {
    "name": "ipython",
    "version": 3
   },
   "file_extension": ".py",
   "mimetype": "text/x-python",
   "name": "python",
   "nbconvert_exporter": "python",
   "pygments_lexer": "ipython3",
   "version": "3.8.5"
  }
 },
 "nbformat": 4,
 "nbformat_minor": 5
}
