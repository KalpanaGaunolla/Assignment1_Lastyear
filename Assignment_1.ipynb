{
 "cells": [
  {
   "cell_type": "code",
   "execution_count": 1,
   "id": "creative-advance",
   "metadata": {},
   "outputs": [],
   "source": [
    "#Question1\n",
    "\n",
    "#Numbers which are divisible by 7 but not mutliples of 5 between 2000 and 3201"
   ]
  },
  {
   "cell_type": "code",
   "execution_count": 2,
   "id": "perfect-quantity",
   "metadata": {},
   "outputs": [],
   "source": [
    "def num(a):\n",
    "    if a%7==0 and a%5!=0:\n",
    "        return a"
   ]
  },
  {
   "cell_type": "code",
   "execution_count": 3,
   "id": "affecting-intermediate",
   "metadata": {},
   "outputs": [
    {
     "name": "stdout",
     "output_type": "stream",
     "text": [
      "[2002, 2009, 2016, 2023, 2037, 2044, 2051, 2058, 2072, 2079, 2086, 2093, 2107, 2114, 2121, 2128, 2142, 2149, 2156, 2163, 2177, 2184, 2191, 2198, 2212, 2219, 2226, 2233, 2247, 2254, 2261, 2268, 2282, 2289, 2296, 2303, 2317, 2324, 2331, 2338, 2352, 2359, 2366, 2373, 2387, 2394, 2401, 2408, 2422, 2429, 2436, 2443, 2457, 2464, 2471, 2478, 2492, 2499, 2506, 2513, 2527, 2534, 2541, 2548, 2562, 2569, 2576, 2583, 2597, 2604, 2611, 2618, 2632, 2639, 2646, 2653, 2667, 2674, 2681, 2688, 2702, 2709, 2716, 2723, 2737, 2744, 2751, 2758, 2772, 2779, 2786, 2793, 2807, 2814, 2821, 2828, 2842, 2849, 2856, 2863, 2877, 2884, 2891, 2898, 2912, 2919, 2926, 2933, 2947, 2954, 2961, 2968, 2982, 2989, 2996, 3003, 3017, 3024, 3031, 3038, 3052, 3059, 3066, 3073, 3087, 3094, 3101, 3108, 3122, 3129, 3136, 3143, 3157, 3164, 3171, 3178, 3192, 3199],"
     ]
    }
   ],
   "source": [
    "a=range(2000,3201)\n",
    "print(list(filter(num,a)),end=',')"
   ]
  },
  {
   "cell_type": "code",
   "execution_count": 8,
   "id": "eight-flexibility",
   "metadata": {},
   "outputs": [],
   "source": [
    "#Question2"
   ]
  },
  {
   "cell_type": "code",
   "execution_count": 5,
   "id": "european-accommodation",
   "metadata": {},
   "outputs": [
    {
     "name": "stdout",
     "output_type": "stream",
     "text": [
      "first name:Kalpana\n",
      "last name:Gaunolla\n"
     ]
    }
   ],
   "source": [
    "first=input('first name:')\n",
    "last=input('last name:')\n",
    "a='{} {}'.format(first,last)\n",
    "b=a[::-1]"
   ]
  },
  {
   "cell_type": "code",
   "execution_count": 6,
   "id": "another-landing",
   "metadata": {},
   "outputs": [
    {
     "data": {
      "text/plain": [
       "'Kalpana Gaunolla'"
      ]
     },
     "execution_count": 6,
     "metadata": {},
     "output_type": "execute_result"
    }
   ],
   "source": [
    "a"
   ]
  },
  {
   "cell_type": "code",
   "execution_count": 7,
   "id": "alert-nigeria",
   "metadata": {},
   "outputs": [
    {
     "data": {
      "text/plain": [
       "'allonuaG anaplaK'"
      ]
     },
     "execution_count": 7,
     "metadata": {},
     "output_type": "execute_result"
    }
   ],
   "source": [
    "b"
   ]
  },
  {
   "cell_type": "code",
   "execution_count": 9,
   "id": "moving-young",
   "metadata": {},
   "outputs": [],
   "source": [
    "#Question3\n",
    "#Finding volume of sphere"
   ]
  },
  {
   "cell_type": "code",
   "execution_count": 10,
   "id": "detailed-bunch",
   "metadata": {},
   "outputs": [],
   "source": [
    "import math"
   ]
  },
  {
   "cell_type": "code",
   "execution_count": 11,
   "id": "gorgeous-picnic",
   "metadata": {},
   "outputs": [],
   "source": [
    "def sphere_volume(dia):\n",
    "    radius=dia/2\n",
    "    volume=4/3*(math.pi)*radius**3\n",
    "    return(volume)\n"
   ]
  },
  {
   "cell_type": "code",
   "execution_count": 12,
   "id": "spiritual-messenger",
   "metadata": {},
   "outputs": [
    {
     "data": {
      "text/plain": [
       "904.7786842338603"
      ]
     },
     "execution_count": 12,
     "metadata": {},
     "output_type": "execute_result"
    }
   ],
   "source": [
    "sphere_volume(12)"
   ]
  },
  {
   "cell_type": "code",
   "execution_count": null,
   "id": "molecular-antenna",
   "metadata": {},
   "outputs": [],
   "source": []
  },
  {
   "cell_type": "code",
   "execution_count": null,
   "id": "iraqi-special",
   "metadata": {},
   "outputs": [],
   "source": []
  }
 ],
 "metadata": {
  "kernelspec": {
   "display_name": "Python 3",
   "language": "python",
   "name": "python3"
  },
  "language_info": {
   "codemirror_mode": {
    "name": "ipython",
    "version": 3
   },
   "file_extension": ".py",
   "mimetype": "text/x-python",
   "name": "python",
   "nbconvert_exporter": "python",
   "pygments_lexer": "ipython3",
   "version": "3.9.1"
  }
 },
 "nbformat": 4,
 "nbformat_minor": 5
}
