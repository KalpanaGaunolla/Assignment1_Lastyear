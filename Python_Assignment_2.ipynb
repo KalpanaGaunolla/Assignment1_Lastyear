{
 "cells": [
  {
   "cell_type": "markdown",
   "id": "cubic-jurisdiction",
   "metadata": {},
   "source": [
    "#Question 1"
   ]
  },
  {
   "cell_type": "code",
   "execution_count": 3,
   "id": "outside-george",
   "metadata": {},
   "outputs": [],
   "source": [
    "#Create a given pattern using nested for loop"
   ]
  },
  {
   "cell_type": "code",
   "execution_count": 28,
   "id": "dramatic-infrastructure",
   "metadata": {},
   "outputs": [],
   "source": [
    "#creating input to give number of rows"
   ]
  },
  {
   "cell_type": "code",
   "execution_count": 38,
   "id": "introductory-ontario",
   "metadata": {},
   "outputs": [
    {
     "name": "stdout",
     "output_type": "stream",
     "text": [
      "5\n"
     ]
    }
   ],
   "source": [
    "n=int(input())"
   ]
  },
  {
   "cell_type": "code",
   "execution_count": 42,
   "id": "wireless-density",
   "metadata": {},
   "outputs": [
    {
     "name": "stdout",
     "output_type": "stream",
     "text": [
      "*\n",
      "**\n",
      "***\n",
      "****\n",
      "*****\n",
      "****\n",
      "***\n",
      "**\n",
      "*\n",
      "\n"
     ]
    }
   ],
   "source": [
    "#outer loop to create number of rows\n",
    "for i in range(0,n):\n",
    "    for j in range(0,i+1): #inner loop to create the astricks\n",
    "        print('*', end='')\n",
    "    print('')\n",
    "#creating reverse pattern\n",
    "\n",
    "for i in range(0,n):\n",
    "    for j in range(i,n-1):\n",
    "        print('*',end='')\n",
    "    print('')"
   ]
  },
  {
   "cell_type": "markdown",
   "id": "asian-panic",
   "metadata": {},
   "source": [
    "#Question 2"
   ]
  },
  {
   "cell_type": "code",
   "execution_count": 1,
   "id": "empirical-press",
   "metadata": {},
   "outputs": [],
   "source": [
    "#Program to reverse a word"
   ]
  },
  {
   "cell_type": "code",
   "execution_count": 4,
   "id": "provincial-broadcasting",
   "metadata": {},
   "outputs": [
    {
     "name": "stdout",
     "output_type": "stream",
     "text": [
      "enter your word here: Umbrella\n",
      "allerbmU\n"
     ]
    }
   ],
   "source": [
    "#recieving input from user\n",
    "word=input('enter your word here: ')\n",
    "#Reverse the given word\n",
    "b=word[::-1]\n",
    "print(b)"
   ]
  },
  {
   "cell_type": "code",
   "execution_count": null,
   "id": "cognitive-strength",
   "metadata": {},
   "outputs": [],
   "source": []
  },
  {
   "cell_type": "code",
   "execution_count": null,
   "id": "therapeutic-circular",
   "metadata": {},
   "outputs": [],
   "source": []
  }
 ],
 "metadata": {
  "kernelspec": {
   "display_name": "Python 3",
   "language": "python",
   "name": "python3"
  },
  "language_info": {
   "codemirror_mode": {
    "name": "ipython",
    "version": 3
   },
   "file_extension": ".py",
   "mimetype": "text/x-python",
   "name": "python",
   "nbconvert_exporter": "python",
   "pygments_lexer": "ipython3",
   "version": "3.9.1"
  }
 },
 "nbformat": 4,
 "nbformat_minor": 5
}
